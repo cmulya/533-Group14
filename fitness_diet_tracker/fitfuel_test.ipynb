{
 "cells": [
  {
   "cell_type": "code",
   "execution_count": 1,
   "id": "54ac40d1",
   "metadata": {},
   "outputs": [
    {
     "name": "stdout",
     "output_type": "stream",
     "text": [
      "Select a workout plan (athlete/strength/body weight): athlete\n",
      "Here are the warmups:\n",
      "Seated hamstring stretch (2 repetitions)\n",
      "Light jogging (5 mins)\n",
      "Across Body arm strech (2 repetitions)\n",
      "Pull up bar hang(1 minute)\n",
      "\n",
      "Here are the warmup guides: \n",
      "https://www.youtube.com/watch?v=HFPbNaMzW3M\n",
      "https://www.youtube.com/watch?v=-1K0m5ywRcY\n",
      "Select a workout plan (athlete/strength/body weight): strength\n",
      "How long do you want to train for (min): 7\n",
      "\n",
      "Here is your workout plan:\n",
      "2 sets of bench press until failure\n",
      "2 sets of barbell squats until failure\n",
      "2 sets of deadlifts until failure\n",
      "Atleast 2 minute of rest between each set is recommended\n",
      "\n",
      "Here are the guides: \n",
      "https://www.youtube.com/shorts/EdDqD4aKwxM\n",
      "https://www.youtube.com/shorts/gslEzVggur8\n",
      "https://www.youtube.com/shorts/McCDaAsSeRc\n"
     ]
    }
   ],
   "source": [
    "from workout_plan.warmup import warmUp\n",
    "from workout_plan.workout import WorkOut"
   ]
  },
  {
   "cell_type": "code",
   "execution_count": null,
   "id": "26cab0cc",
   "metadata": {},
   "outputs": [],
   "source": []
  }
 ],
 "metadata": {
  "kernelspec": {
   "display_name": "Python 3 (ipykernel)",
   "language": "python",
   "name": "python3"
  },
  "language_info": {
   "codemirror_mode": {
    "name": "ipython",
    "version": 3
   },
   "file_extension": ".py",
   "mimetype": "text/x-python",
   "name": "python",
   "nbconvert_exporter": "python",
   "pygments_lexer": "ipython3",
   "version": "3.11.6"
  }
 },
 "nbformat": 4,
 "nbformat_minor": 5
}
