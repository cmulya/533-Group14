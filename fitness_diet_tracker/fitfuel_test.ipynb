{
 "cells": [
  {
   "cell_type": "code",
   "execution_count": 1,
   "id": "ddb967f0",
   "metadata": {},
   "outputs": [
    {
     "name": "stdout",
     "output_type": "stream",
     "text": [
      "Select a workout plan (athlete/strength/body weight): athlete\n",
      "Here are the warmups:\n",
      "Seated hamstring stretch (2 repetitions)\n",
      "Light jogging (5 mins)\n",
      "Across Body arm strech (2 repetitions)\n",
      "Pull up bar hang(1 minute)\n",
      "\n",
      "Here are the warmup guides: \n",
      "https://www.youtube.com/watch?v=HFPbNaMzW3M\n",
      "https://www.youtube.com/watch?v=-1K0m5ywRcY\n",
      "Select a workout plan (athlete/strength/body weight): strength\n",
      "How long do you want to train for (min): 7\n",
      "\n",
      "Here is your workout plan:\n",
      "2 sets of bench press until failure\n",
      "2 sets of barbell squats until failure\n",
      "2 sets of deadlifts until failure\n",
      "Atleast 2 minute of rest between each set is recommended\n",
      "\n",
      "Here are the guides: \n",
      "https://www.youtube.com/shorts/EdDqD4aKwxM\n",
      "https://www.youtube.com/shorts/gslEzVggur8\n",
      "https://www.youtube.com/shorts/McCDaAsSeRc\n"
     ]
    }
   ],
   "source": [
    "from workout_plan.warmup import warmUp\n",
    "from workout_plan.workout import WorkOut"
   ]
  },
  {
   "cell_type": "code",
   "execution_count": 1,
   "id": "d96a2c20",
   "metadata": {},
   "outputs": [],
   "source": [
    "from diet_package import planoptions"
   ]
  },
  {
   "cell_type": "code",
   "execution_count": 2,
   "id": "e3a18700",
   "metadata": {},
   "outputs": [],
   "source": [
    "import sys\n",
    "import os"
   ]
  },
  {
   "cell_type": "code",
   "execution_count": 3,
   "id": "88d9e5f7",
   "metadata": {},
   "outputs": [
    {
     "name": "stdout",
     "output_type": "stream",
     "text": [
      "What is your height? 176\n",
      "What is your weight? hjjv\n",
      "Error: could not convert string to float: 'hjjv'. Please enter a valid number for height, weight, and age.\n",
      "What is your height? -10\n",
      "Height must be greater than 0. Please enter a valid height.\n",
      "What is your height? 176\n",
      "What is your weight? 0\n",
      "Weight must be greater than 0. Please enter a valid weight.\n",
      "What is your weight? 69\n",
      "What is your age? 23\n",
      "What is your gender? (male/female)male\n",
      "What is your activity level? (low/moderate/high)low\n",
      "What is your weight goal? (gain/loss)gain\n",
      "BMR: 1740.38\n",
      "TDEE: 2088.46 calories per day\n",
      "Target calories: 2297.31 calories per day\n",
      "\n",
      "Select one of the following Diet Options (vegan/vegetarian/meat): vegan\n",
      "Select a protein option for a vegan diet (tofu/soy_curls/tempeh): tofu\n",
      "Vegan Meal Plan with Tofu:\n",
      "Meal: Vegan Pad Thai\n",
      "Calorie per Serving: 572 cal\n",
      "Youtube Link: https://www.youtube.com/watch?v=96oziIw9Mjw\n",
      "Servings per Day: 4.02\n",
      "\n"
     ]
    }
   ],
   "source": [
    "from diet_package import dietoptions"
   ]
  },
  {
   "cell_type": "code",
   "execution_count": 21,
   "id": "15ad43e9",
   "metadata": {},
   "outputs": [],
   "source": [
    "from workout_plan import warmup"
   ]
  },
  {
   "cell_type": "code",
   "execution_count": 22,
   "id": "6fb1df59",
   "metadata": {},
   "outputs": [
    {
     "name": "stdout",
     "output_type": "stream",
     "text": [
      "Select a workout plan (athlete/strength/body weight): athlete\n",
      "How long do you want to train for (min): 30\n",
      "\n",
      "Here is your workout plan:\n",
      "Seated hamstring stretch (2 repetitions)\n",
      "Light jogging (5 mins)\n",
      "Across Body arm strech (2 repetitions)\n",
      "Pull up bar hang(1 minute)\n",
      "\n",
      "Here are the warmup guides: \n",
      "https://www.youtube.com/watch?v=iaBVSJm78ko\n",
      "https://www.youtube.com/watch?v=YGGq0AE5Uyc\n",
      "https://www.youtube.com/watch?v=XB_7En-zf_M\n",
      "\n",
      "3 sets of push press until failure\n",
      "3 sets of half squat jumps until failure\n",
      "3 sets of pull ups until failure\n",
      "Atleast 1 minute of rest between each set is recommended\n",
      "\n",
      "Here are the exercise guides: \n",
      "https://www.youtube.com/watch?v=iaBVSJm78ko\n",
      "https://www.youtube.com/watch?v=YGGq0AE5Uyc\n",
      "https://www.youtube.com/watch?v=XB_7En-zf_M\n"
     ]
    }
   ],
   "source": [
    "from workout_plan import workout"
   ]
  },
  {
   "cell_type": "code",
   "execution_count": null,
   "id": "f1be3d55",
   "metadata": {},
   "outputs": [],
   "source": []
  }
 ],
 "metadata": {
  "kernelspec": {
   "display_name": "Python 3 (ipykernel)",
   "language": "python",
   "name": "python3"
  },
  "language_info": {
   "codemirror_mode": {
    "name": "ipython",
    "version": 3
   },
   "file_extension": ".py",
   "mimetype": "text/x-python",
   "name": "python",
   "nbconvert_exporter": "python",
   "pygments_lexer": "ipython3",
   "version": "3.11.0"
  }
 },
 "nbformat": 4,
 "nbformat_minor": 5
}
