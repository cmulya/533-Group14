{
 "cells": [
  {
   "cell_type": "code",
   "execution_count": 1,
   "id": "ddb967f0",
   "metadata": {},
   "outputs": [
    {
     "name": "stdout",
     "output_type": "stream",
     "text": [
      "Select a workout plan (athlete/strength/body weight): athlete\n",
      "Here are the warmups:\n",
      "Seated hamstring stretch (2 repetitions)\n",
      "Light jogging (5 mins)\n",
      "Across Body arm strech (2 repetitions)\n",
      "Pull up bar hang(1 minute)\n",
      "\n",
      "Here are the warmup guides: \n",
      "https://www.youtube.com/watch?v=HFPbNaMzW3M\n",
      "https://www.youtube.com/watch?v=-1K0m5ywRcY\n",
      "Select a workout plan (athlete/strength/body weight): strength\n",
      "How long do you want to train for (min): 7\n",
      "\n",
      "Here is your workout plan:\n",
      "2 sets of bench press until failure\n",
      "2 sets of barbell squats until failure\n",
      "2 sets of deadlifts until failure\n",
      "Atleast 2 minute of rest between each set is recommended\n",
      "\n",
      "Here are the guides: \n",
      "https://www.youtube.com/shorts/EdDqD4aKwxM\n",
      "https://www.youtube.com/shorts/gslEzVggur8\n",
      "https://www.youtube.com/shorts/McCDaAsSeRc\n"
     ]
    }
   ],
   "source": [
    "from workout_plan.warmup import warmUp\n",
    "from workout_plan.workout import WorkOut"
   ]
  },
  {
   "cell_type": "code",
   "execution_count": 5,
   "id": "d96a2c20",
   "metadata": {},
   "outputs": [],
   "source": [
    "from diet_package import planoptions"
   ]
  },
  {
   "cell_type": "code",
   "execution_count": 10,
   "id": "e3a18700",
   "metadata": {},
   "outputs": [],
   "source": [
    "import sys\n",
    "import os"
   ]
  },
  {
   "cell_type": "code",
   "execution_count": 1,
   "id": "88d9e5f7",
   "metadata": {},
   "outputs": [
    {
     "name": "stdout",
     "output_type": "stream",
     "text": [
      "What is your height? 153\n",
      "What is your weight? 69\n",
      "What is your age? 21\n",
      "What is your gender? (male/female)male\n",
      "What is your activity level? (low/moderate/high)moderate\n",
      "What is your weight goal? (gain/loss)gain\n",
      "BMR: 1638.82\n",
      "TDEE: 2540.18 calories per day\n",
      "Target calories: 2794.19 calories per day\n",
      "\n",
      "Select one of the following Diet Options (vegan/vegetarian/meat): vegan\n",
      "Select a protein option for a vegan diet (tofu/soy_curls/tempeh): tofu\n",
      "Vegan Meal Plan with Tofu:\n",
      "Meal: Vegan Pad Thai\n",
      "Calorie per Serving: 572 cal\n",
      "Youtube Link: https://www.youtube.com/watch?v=96oziIw9Mjw\n",
      "Servings per Day: 4.88\n",
      "\n"
     ]
    }
   ],
   "source": [
    "from diet_package import dietoptions"
   ]
  }
 ],
 "metadata": {
  "kernelspec": {
   "display_name": "Python 3 (ipykernel)",
   "language": "python",
   "name": "python3"
  },
  "language_info": {
   "codemirror_mode": {
    "name": "ipython",
    "version": 3
   },
   "file_extension": ".py",
   "mimetype": "text/x-python",
   "name": "python",
   "nbconvert_exporter": "python",
   "pygments_lexer": "ipython3",
   "version": "3.11.6"
  }
 },
 "nbformat": 4,
 "nbformat_minor": 5
}
