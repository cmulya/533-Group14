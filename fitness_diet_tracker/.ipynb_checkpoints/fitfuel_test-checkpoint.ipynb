{
 "cells": [
  {
   "cell_type": "code",
   "execution_count": 1,
   "id": "ddb967f0",
   "metadata": {},
   "outputs": [
    {
     "name": "stdout",
     "output_type": "stream",
     "text": [
      "Select a workout plan (athlete/strength/body weight): athlete\n",
      "Here are the warmups:\n",
      "Seated hamstring stretch (2 repetitions)\n",
      "Light jogging (5 mins)\n",
      "Across Body arm strech (2 repetitions)\n",
      "Pull up bar hang(1 minute)\n",
      "\n",
      "Here are the warmup guides: \n",
      "https://www.youtube.com/watch?v=HFPbNaMzW3M\n",
      "https://www.youtube.com/watch?v=-1K0m5ywRcY\n",
      "Select a workout plan (athlete/strength/body weight): strength\n",
      "How long do you want to train for (min): 7\n",
      "\n",
      "Here is your workout plan:\n",
      "2 sets of bench press until failure\n",
      "2 sets of barbell squats until failure\n",
      "2 sets of deadlifts until failure\n",
      "Atleast 2 minute of rest between each set is recommended\n",
      "\n",
      "Here are the guides: \n",
      "https://www.youtube.com/shorts/EdDqD4aKwxM\n",
      "https://www.youtube.com/shorts/gslEzVggur8\n",
      "https://www.youtube.com/shorts/McCDaAsSeRc\n"
     ]
    }
   ],
   "source": [
    "from workout_plan.warmup import warmUp\n",
    "from workout_plan.workout import WorkOut"
   ]
  },
  {
   "cell_type": "code",
   "execution_count": 1,
   "id": "d96a2c20",
   "metadata": {},
   "outputs": [],
   "source": [
    "from diet_package import planoptions"
   ]
  },
  {
   "cell_type": "code",
   "execution_count": 1,
   "id": "e3a18700",
   "metadata": {},
   "outputs": [],
   "source": [
    "import sys\n",
    "import os"
   ]
  },
  {
   "cell_type": "code",
   "execution_count": null,
   "id": "88d9e5f7",
   "metadata": {},
   "outputs": [
    {
     "name": "stdout",
     "output_type": "stream",
     "text": [
      "What is your height?(cm) 145\n",
      "What is your weight?(kg) 68\n",
      "What is your age? 23\n",
      "What is your gender? (male/female) male\n",
      "What is your activity level? (low/moderate/high) high\n",
      "What is your weight goal? (gain/loss) gain\n",
      "BMR: 1571.54\n",
      "TDEE: 2985.93 calories per day\n",
      "Target calories: 3284.52 calories per day\n",
      "\n",
      "Select one of the following Diet Options (vegan/vegetarian/meat): sdfgsfdgsdg\n",
      "Invalid diet option. Please choose vegan, vegetarian, or meat.\n"
     ]
    }
   ],
   "source": [
    "from diet_package import dietoptions"
   ]
  },
  {
   "cell_type": "code",
   "execution_count": 2,
   "id": "15ad43e9",
   "metadata": {},
   "outputs": [],
   "source": [
    "from workout_plan import warmup"
   ]
  },
  {
   "cell_type": "code",
   "execution_count": 3,
   "id": "6fb1df59",
   "metadata": {},
   "outputs": [
    {
     "name": "stdout",
     "output_type": "stream",
     "text": [
      "Select a workout plan (athlete/strength/body weight): sdfgsg\n",
      "Invalid fitness preference. Please enter 'athlete', 'strength', or 'body weight'.\n",
      "Select a workout plan (athlete/strength/body weight): sdgsdg\n",
      "Invalid fitness preference. Please enter 'athlete', 'strength', or 'body weight'.\n",
      "Select a workout plan (athlete/strength/body weight): athlete\n",
      "How long do you want to train for (min): sdfsdg\n",
      "Please enter a valid numerical value for fitness_time: invalid literal for int() with base 10: 'sdfsdg'\n",
      "How long do you want to train for (min): sdgsd\n",
      "Please enter a valid numerical value for fitness_time: invalid literal for int() with base 10: 'sdgsd'\n",
      "How long do you want to train for (min): 0\n",
      "Invalid fitness time. Please enter a positive integer.\n",
      "How long do you want to train for (min): 45\n",
      "\n",
      "Here is your workout plan:\n",
      "Seated hamstring stretch (2 repetitions)\n",
      "Light jogging (5 mins)\n",
      "Across Body arm strech (2 repetitions)\n",
      "Pull up bar hang(1 minute)\n",
      "\n",
      "Here are the warmup guides: \n",
      "https://www.youtube.com/watch?v=iaBVSJm78ko\n",
      "https://www.youtube.com/watch?v=YGGq0AE5Uyc\n",
      "https://www.youtube.com/watch?v=XB_7En-zf_M\n",
      "\n",
      "4 sets of push press until failure\n",
      "4 sets of half squat jumps until failure\n",
      "4 sets of pull ups until failure\n",
      "Atleast 1.5 minute of rest between each set is recommended\n",
      "\n",
      "Here are the exercise guides: \n",
      "https://www.youtube.com/watch?v=iaBVSJm78ko\n",
      "https://www.youtube.com/watch?v=YGGq0AE5Uyc\n",
      "https://www.youtube.com/watch?v=XB_7En-zf_M\n"
     ]
    }
   ],
   "source": [
    "from workout_plan import workout"
   ]
  },
  {
   "cell_type": "code",
   "execution_count": null,
   "id": "f1be3d55",
   "metadata": {},
   "outputs": [],
   "source": []
  }
 ],
 "metadata": {
  "kernelspec": {
   "display_name": "Python 3 (ipykernel)",
   "language": "python",
   "name": "python3"
  },
  "language_info": {
   "codemirror_mode": {
    "name": "ipython",
    "version": 3
   },
   "file_extension": ".py",
   "mimetype": "text/x-python",
   "name": "python",
   "nbconvert_exporter": "python",
   "pygments_lexer": "ipython3",
   "version": "3.11.6"
  }
 },
 "nbformat": 4,
 "nbformat_minor": 5
}
