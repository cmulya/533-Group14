{
 "cells": [
  {
   "cell_type": "markdown",
   "id": "babf51f4",
   "metadata": {},
   "source": [
    "# FitFuel - Fitness & Diet Tracker Test File"
   ]
  },
  {
   "cell_type": "markdown",
   "id": "fdf91552",
   "metadata": {},
   "source": [
    "This package has 2 distinct subpackages for managing dietary information (diet_package) and workout plans (workout_plan). Each of the subpackages contain modules that handle various functionalities related to diet options and exercise routines. Importing these subpackages in a test file allows you to evaluate and validate the implementation of these health-related features in the fitness_diet_tracker package."
   ]
  },
  {
   "cell_type": "markdown",
   "id": "886405b3",
   "metadata": {},
   "source": [
    "## Subpackage 1 (workout_plan):"
   ]
  },
  {
   "cell_type": "markdown",
   "id": "fff31c01",
   "metadata": {},
   "source": [
    "If users would like to get personalized warm up and workout routines that suit their schedule and style preference, they can import the modules contained within the \"workout_plan\" subpackage."
   ]
  },
  {
   "cell_type": "markdown",
   "id": "ce3c0e37",
   "metadata": {},
   "source": [
    "Start by importing the warmup module, which contains the superclass \"warmUp\":"
   ]
  },
  {
   "cell_type": "code",
   "execution_count": 1,
   "id": "c442646a",
   "metadata": {},
   "outputs": [],
   "source": [
    "import sys\n",
    "import os"
   ]
  },
  {
   "cell_type": "code",
   "execution_count": 2,
   "id": "ddb967f0",
   "metadata": {},
   "outputs": [],
   "source": [
    "from workout_plan.warmup import warmUp"
   ]
  },
  {
   "cell_type": "markdown",
   "id": "8be8e419",
   "metadata": {},
   "source": [
    "Then import the second module \"workout\", which contains the child class \"WorkOut\":"
   ]
  },
  {
   "cell_type": "code",
   "execution_count": 3,
   "id": "ac3ae55b",
   "metadata": {},
   "outputs": [
    {
     "name": "stdout",
     "output_type": "stream",
     "text": [
      "Select a workout plan (athlete/strength/body weight): athlete\n",
      "How long do you want to train for (10-60 min): 30\n",
      "\n",
      "Here is your workout plan:\n",
      "Seated hamstring stretch (2 repetitions)\n",
      "Light jogging (5 mins)\n",
      "Across Body arm stretch (2 repetitions)\n",
      "Pull-up bar hang (1 minute)\n",
      "\n",
      "Here are the warm-up guides: \n",
      "https://www.youtube.com/watch?v=HFPbNaMzW3M\n",
      "https://www.youtube.com/watch?v=-1K0m5ywRcY\n",
      "\n",
      "3 sets of push press until failure\n",
      "3 sets of half squat jumps until failure\n",
      "3 sets of pull ups until failure\n",
      "Atleast 1 minute of rest between each set is recommended\n",
      "\n",
      "Here are the exercise guides: \n",
      "https://www.youtube.com/watch?v=iaBVSJm78ko\n",
      "https://www.youtube.com/watch?v=YGGq0AE5Uyc\n",
      "https://www.youtube.com/watch?v=XB_7En-zf_M\n"
     ]
    }
   ],
   "source": [
    "from workout_plan.workout import WorkOut"
   ]
  },
  {
   "cell_type": "markdown",
   "id": "642536e6",
   "metadata": {},
   "source": [
    "## Subpackage 2 (diet_package):"
   ]
  },
  {
   "cell_type": "markdown",
   "id": "4c29f4cb",
   "metadata": {},
   "source": [
    "If users would like to know their target calorie intake and get a personalized diet plan that suit their dietary preference, they can import the modules contained within the \"diet_package\" subpackage."
   ]
  },
  {
   "cell_type": "markdown",
   "id": "5070b25d",
   "metadata": {},
   "source": [
    "Start by importing the \"planoptions\" module, which contains the superclass \"PlanOptions\":"
   ]
  },
  {
   "cell_type": "code",
   "execution_count": 4,
   "id": "d96a2c20",
   "metadata": {},
   "outputs": [],
   "source": [
    "from diet_package import planoptions"
   ]
  },
  {
   "cell_type": "markdown",
   "id": "9c849147",
   "metadata": {},
   "source": [
    "Then import the second module \"dietoptions\", which contains the child class \"DietOptions\":"
   ]
  },
  {
   "cell_type": "code",
   "execution_count": 5,
   "id": "88d9e5f7",
   "metadata": {},
   "outputs": [
    {
     "name": "stdout",
     "output_type": "stream",
     "text": [
      "What is your height (in cm)? 176\n",
      "What is your weight (in kg)? 69\n",
      "What is your age? 23\n",
      "What is your gender? (male/female): male\n",
      "If you use our workout program, choose 'high' as your activity level.\n",
      "What is your activity level? (low/moderate/high): high\n",
      "What is your weight goal? (gain/loss): gain\n",
      "BMR: 1740.38\n",
      "TDEE: 3306.73 calories per day\n",
      "Target calories: 3637.40 calories per day\n",
      "\n",
      "Select one of the following Diet Options (vegan/vegetarian/meat): vegan\n",
      "Select a protein option for a vegan diet (tofu/soy_curls/tempeh): tofu\n",
      "Vegan Meal Plan with Tofu:\n",
      "Meal: Vegan Pad Thai\n",
      "Calorie per Serving: 572 cal\n",
      "Youtube Link: https://www.youtube.com/watch?v=96oziIw9Mjw\n",
      "Servings per Day: 6.36\n",
      "\n"
     ]
    }
   ],
   "source": [
    "from diet_package import dietoptions"
   ]
  },
  {
   "cell_type": "code",
   "execution_count": null,
   "id": "e21675ae",
   "metadata": {},
   "outputs": [],
   "source": []
  }
 ],
 "metadata": {
  "kernelspec": {
   "display_name": "Python 3 (ipykernel)",
   "language": "python",
   "name": "python3"
  },
  "language_info": {
   "codemirror_mode": {
    "name": "ipython",
    "version": 3
   },
   "file_extension": ".py",
   "mimetype": "text/x-python",
   "name": "python",
   "nbconvert_exporter": "python",
   "pygments_lexer": "ipython3",
   "version": "3.11.0"
  }
 },
 "nbformat": 4,
 "nbformat_minor": 5
}
